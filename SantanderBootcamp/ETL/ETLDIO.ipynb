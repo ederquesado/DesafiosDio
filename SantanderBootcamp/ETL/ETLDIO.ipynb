{
  "cells": [
    {
      "cell_type": "markdown",
      "metadata": {
        "id": "nkMWMC9m6_nS"
      },
      "source": [
        "# Santander Dev Week 2023 (ETL com Python)"
      ]
    },
    {
      "cell_type": "markdown",
      "metadata": {
        "id": "1Sdt_X2W66h4"
      },
      "source": [
        "**Contexto:** Você é um cientista de dados no Santander e recebeu a tarefa de envolver seus clientes de maneira mais personalizada. Seu objetivo é usar o poder da IA Generativa para criar mensagens de marketing personalizadas que serão entregues a cada cliente.\n",
        "\n",
        "**Condições do Problema:**\n",
        "\n",
        "1. Você recebeu uma planilha simples, em formato CSV ('SDW2023.csv'), com uma lista de IDs de usuário do banco:\n",
        "  ```\n",
        "  UserID\n",
        "  1\n",
        "  2\n",
        "  3\n",
        "  4\n",
        "  5\n",
        "  ```\n",
        "2. Seu trabalho é consumir o endpoint `GET https://sdw-2023-prd.up.railway.app/users/{id}` (API da Santander Dev Week 2023) para obter os dados de cada cliente.\n",
        "3. Depois de obter os dados dos clientes, você vai usar a API do ChatGPT (OpenAI) para gerar uma mensagem de marketing personalizada para cada cliente. Essa mensagem deve enfatizar a importância dos investimentos.\n",
        "4. Uma vez que a mensagem para cada cliente esteja pronta, você vai enviar essas informações de volta para a API, atualizando a lista de \"news\" de cada usuário usando o endpoint `PUT https://sdw-2023-prd.up.railway.app/users/{id}`.\n",
        "\n"
      ]
    },
    {
      "cell_type": "code",
      "execution_count": 1,
      "metadata": {
        "id": "4U-2POmL7EsC"
      },
      "outputs": [],
      "source": [
        "# Utilize sua própria URL se quiser ;)\n",
        "# Repositório da API: https://github.com/digitalinnovationone/santander-dev-week-2023-api\n",
        "sdw2023_api_url = 'https://sdw-2023-prd.up.railway.app'"
      ]
    },
    {
      "cell_type": "markdown",
      "metadata": {
        "id": "jA_QJyIw7JJb"
      },
      "source": [
        "# **E**xtract\n",
        "\n",
        "Extraia a lista de IDs de usuário a partir do arquivo CSV. Para cada ID, faça uma requisição GET para obter os dados do usuário correspondente."
      ]
    },
    {
      "cell_type": "code",
      "execution_count": 2,
      "metadata": {
        "colab": {
          "base_uri": "https://localhost:8080/"
        },
        "id": "FGBDqJRf3XLE",
        "outputId": "1cdb307d-a56d-4cc0-88f0-5269d16947e3"
      },
      "outputs": [
        {
          "name": "stdout",
          "output_type": "stream",
          "text": [
            "[3827, 3831, 3832]\n"
          ]
        }
      ],
      "source": [
        "import pandas as pd\n",
        "\n",
        "df = pd.read_csv('SDW2023.csv')\n",
        "user_ids = df['UserID'].tolist()\n",
        "print(user_ids)"
      ]
    },
    {
      "cell_type": "code",
      "execution_count": 3,
      "metadata": {
        "colab": {
          "base_uri": "https://localhost:8080/"
        },
        "id": "erTJShOk60Hj",
        "outputId": "171237b6-df2b-4420-bb03-77678dab74ae"
      },
      "outputs": [
        {
          "name": "stdout",
          "output_type": "stream",
          "text": [
            "[\n",
            "  {\n",
            "    \"id\": 3827,\n",
            "    \"name\": \"Luna\",\n",
            "    \"account\": {\n",
            "      \"id\": 4062,\n",
            "      \"number\": \"02023-7\",\n",
            "      \"agency\": \"0001\",\n",
            "      \"balance\": 0.0,\n",
            "      \"limit\": 500.0\n",
            "    },\n",
            "    \"card\": {\n",
            "      \"id\": 3719,\n",
            "      \"number\": \"**** **** **** 0423\",\n",
            "      \"limit\": 1000.0\n",
            "    },\n",
            "    \"features\": [],\n",
            "    \"news\": [\n",
            "      {\n",
            "        \"id\": 8078,\n",
            "        \"icon\": \"https://digitalinnovationone.github.io/santander-dev-week-2023-api/icons/credit.svg\",\n",
            "        \"description\": \"O Santander tem solu\\u00e7\\u00f5es de cr\\u00e9dito sob medida pra voc\\u00ea. Confira!\"\n",
            "      },\n",
            "      {\n",
            "        \"id\": 8079,\n",
            "        \"icon\": \"https://digitalinnovationone.github.io/santander-dev-week-2023-api/icons/credit.svg\",\n",
            "        \"description\": \"Invista hoje para um futuro pr\\u00f3spero! #InvistaComSabedoria\"\n",
            "      }\n",
            "    ]\n",
            "  },\n",
            "  {\n",
            "    \"id\": 3831,\n",
            "    \"name\": \"Matheus\",\n",
            "    \"account\": {\n",
            "      \"id\": 4066,\n",
            "      \"number\": \"02023-1\",\n",
            "      \"agency\": \"0001\",\n",
            "      \"balance\": 0.0,\n",
            "      \"limit\": 500.0\n",
            "    },\n",
            "    \"card\": {\n",
            "      \"id\": 3723,\n",
            "      \"number\": \"**** **** **** 0428\",\n",
            "      \"limit\": 1000.0\n",
            "    },\n",
            "    \"features\": [],\n",
            "    \"news\": [\n",
            "      {\n",
            "        \"id\": 8080,\n",
            "        \"icon\": \"https://digitalinnovationone.github.io/santander-dev-week-2023-api/icons/credit.svg\",\n",
            "        \"description\": \"O Santander tem solu\\u00e7\\u00f5es de cr\\u00e9dito sob medida pra voc\\u00ea. Confira!\"\n",
            "      },\n",
            "      {\n",
            "        \"id\": 8081,\n",
            "        \"icon\": \"https://digitalinnovationone.github.io/santander-dev-week-2023-api/icons/credit.svg\",\n",
            "        \"description\": \"Invista no seu futuro, Matheus. Fa\\u00e7a seu dinheiro trabalhar por voc\\u00ea.\"\n",
            "      }\n",
            "    ]\n",
            "  },\n",
            "  {\n",
            "    \"id\": 3832,\n",
            "    \"name\": \"Leni\",\n",
            "    \"account\": {\n",
            "      \"id\": 4067,\n",
            "      \"number\": \"02023-5\",\n",
            "      \"agency\": \"0001\",\n",
            "      \"balance\": 0.0,\n",
            "      \"limit\": 500.0\n",
            "    },\n",
            "    \"card\": {\n",
            "      \"id\": 3724,\n",
            "      \"number\": \"**** **** **** 0412\",\n",
            "      \"limit\": 1000.0\n",
            "    },\n",
            "    \"features\": [],\n",
            "    \"news\": [\n",
            "      {\n",
            "        \"id\": 8082,\n",
            "        \"icon\": \"https://digitalinnovationone.github.io/santander-dev-week-2023-api/icons/credit.svg\",\n",
            "        \"description\": \"O Santander tem solu\\u00e7\\u00f5es de cr\\u00e9dito sob medida pra voc\\u00ea. Confira!\"\n",
            "      },\n",
            "      {\n",
            "        \"id\": 8083,\n",
            "        \"icon\": \"https://digitalinnovationone.github.io/santander-dev-week-2023-api/icons/credit.svg\",\n",
            "        \"description\": \"Invista hoje, colha amanh\\u00e3!\"\n",
            "      }\n",
            "    ]\n",
            "  }\n",
            "]\n"
          ]
        }
      ],
      "source": [
        "import requests\n",
        "import json\n",
        "\n",
        "def get_user(id):\n",
        "  response = requests.get(f'{sdw2023_api_url}/users/{id}')\n",
        "  return response.json() if response.status_code == 200 else None\n",
        "\n",
        "users = [user for id in user_ids if (user := get_user(id)) is not None]\n",
        "print(json.dumps(users, indent=2))"
      ]
    },
    {
      "cell_type": "markdown",
      "metadata": {
        "id": "DUtsJX94Eu3z"
      },
      "source": [
        "# **T**ransform\n",
        "\n",
        "Utilize a API do OpenAI GPT-4 para gerar uma mensagem de marketing personalizada para cada usuário."
      ]
    },
    {
      "cell_type": "code",
      "execution_count": 4,
      "metadata": {
        "id": "jPLD6P2DEyhx"
      },
      "outputs": [],
      "source": [
        "##!pip install openai"
      ]
    },
    {
      "cell_type": "code",
      "execution_count": 5,
      "metadata": {
        "id": "SOL3R0y9FFLi"
      },
      "outputs": [],
      "source": [
        "# Documentação Oficial da API OpenAI: https://platform.openai.com/docs/api-reference/introduction\n",
        "# Informações sobre o Período Gratuito: https://help.openai.com/en/articles/4936830\n",
        "\n",
        "# Para gerar uma API Key:\n",
        "# 1. Crie uma conta na OpenAI\n",
        "# 2. Acesse a seção \"API Keys\"\n",
        "# 3. Clique em \"Create API Key\"\n",
        "# Link direto: https://platform.openai.com/account/api-keys\n",
        "\n",
        "# Substitua o texto TODO por sua API Key da OpenAI, ela será salva como uma variável de ambiente.\n",
        "# openai_api_key = 'MinhaAPi'"
      ]
    },
    {
      "cell_type": "markdown",
      "metadata": {
        "id": "Qf8AHGrpJyuS"
      },
      "source": [
        "Como o GPT Atualmente está cobrando mesmo com o free trial decidi criar minhas proprias mensagens"
      ]
    },
    {
      "cell_type": "markdown",
      "metadata": {
        "id": "e4rm8GTRJ3Nz"
      },
      "source": [
        "##GPT"
      ]
    },
    {
      "cell_type": "code",
      "execution_count": 6,
      "metadata": {
        "id": "snwQNudgFFwq"
      },
      "outputs": [],
      "source": [
        "# import openai\n",
        "\n",
        "# openai.api_key = openai_api_key\n",
        "\n",
        "# def generate_ai_news(user):\n",
        "#     completion = openai.chat.completions.create(\n",
        "#     model=\"gpt-4o-mini\",\n",
        "#     messages=[\n",
        "#       {\n",
        "#           \"role\": \"system\",\n",
        "#           \"content\": \"Você é um especialista em marketing bancário.\"\n",
        "#       },\n",
        "#       {\n",
        "#           \"role\": \"user\",\n",
        "#           \"content\": f\"Crie uma mensagem para {user['name']} sobre a importância dos investimentos (máximo de 100 caracteres)\"\n",
        "#       }\n",
        "#     ]\n",
        "#     )\n",
        "#     return completion.choices[0].message.content.strip('\\\"')\n",
        "\n",
        "# for user in users:\n",
        "#   news = generate_ai_news(user)\n",
        "#   print(news)\n",
        "#   user['news'].append({\"icon\": \"https://digitalinnovationone.github.io/santander-dev-week-2023-api/icons/credit.svg\",\n",
        "#       \"description\": news})\n",
        "\n"
      ]
    },
    {
      "cell_type": "markdown",
      "metadata": {
        "id": "3MVoJ5pXKASv"
      },
      "source": [
        "##Estático"
      ]
    },
    {
      "cell_type": "code",
      "execution_count": 7,
      "metadata": {
        "colab": {
          "base_uri": "https://localhost:8080/"
        },
        "id": "bSDkmvXNJ7WX",
        "outputId": "c35174cf-deed-48fb-e964-97d19af7c77e"
      },
      "outputs": [
        {
          "name": "stdout",
          "output_type": "stream",
          "text": [
            "Luna, Faça seu dinheiro trabalhar por você!\n",
            "Matheus, Invista hoje e garanta um futuro mais tranquilo.\n",
            "Leni, Comece com pequenos investimentos e veja os resultados crescerem.\n"
          ]
        }
      ],
      "source": [
        "import random\n",
        "\n",
        "def generate_generic_news(user):\n",
        "    # Lista de mensagens genéricas para diferentes cenários\n",
        "    messages = [\n",
        "        f\"{user['name']}, Invista hoje e garanta um futuro mais tranquilo.\",\n",
        "        f\"{user['name']}, Diversifique seus investimentos para reduzir riscos.\",\n",
        "        f\"{user['name']}, Faça seu dinheiro trabalhar por você!\",\n",
        "        f\"{user['name']}, Comece com pequenos investimentos e veja os resultados crescerem.\",\n",
        "         f\"{user['name']}, Planeje seu futuro com inteligência financeira.\",\n",
        "    ]\n",
        "\n",
        "    # Escolhe uma mensagem aleatória para cada usuário\n",
        "    return random.choice(messages)\n",
        "\n",
        "for user in users:\n",
        "    news = generate_generic_news(user)\n",
        "    print(news)\n",
        "    user['news'].append({\n",
        "        \"icon\": \"https://digitalinnovationone.github.io/santander-dev-week-2023-api/icons/credit.svg\",\n",
        "        \"description\": news\n",
        "    })"
      ]
    },
    {
      "cell_type": "markdown",
      "metadata": {
        "id": "X7CVBJRZR5rN"
      },
      "source": [
        "#Load"
      ]
    },
    {
      "cell_type": "code",
      "execution_count": 10,
      "metadata": {
        "id": "qxvLF_zMNJEn"
      },
      "outputs": [],
      "source": [
        "import json\n",
        "local_json_file = \"users.json\"\n",
        "\n",
        "def load_users():\n",
        "    try:\n",
        "        with open(local_json_file, \"r\") as file:\n",
        "            return json.load(file)\n",
        "    except FileNotFoundError:\n",
        "        return []\n",
        "\n",
        "def save_users(users):\n",
        "    with open(local_json_file, \"w\") as file:\n",
        "        json.dump(users, file, indent=4)\n",
        "\n",
        "def update_user(user):\n",
        "    users = load_users()\n",
        "    for idx, existing_user in enumerate(users):\n",
        "        if existing_user[\"id\"] == user[\"id\"]:\n",
        "            users[idx] = user\n",
        "            save_users(users)\n",
        "            return True\n",
        "    return False\n",
        "\n",
        "\n",
        "save_users(users)\n",
        "users_local = load_users()"
      ]
    },
    {
      "cell_type": "code",
      "execution_count": 9,
      "metadata": {
        "colab": {
          "base_uri": "https://localhost:8080/"
        },
        "id": "I7WebGzIO3Lm",
        "outputId": "6e6fcb27-5330-4cd6-efa3-698676bdd9b7"
      },
      "outputs": [
        {
          "name": "stdout",
          "output_type": "stream",
          "text": [
            "User Luna updated? True\n",
            "User Matheus updated? True\n",
            "User Leni updated? True\n"
          ]
        }
      ],
      "source": [
        "for user in users_local:\n",
        "    user[\"last_updated\"] = \"2025-01-26\"\n",
        "\n",
        "    success = update_user(user)\n",
        "    print(f\"User {user['name']} updated? {success}\")"
      ]
    },
    {
      "cell_type": "markdown",
      "metadata": {
        "id": "KY88M1kWR1ib"
      },
      "source": [
        "Modificações : Tentei criar um jason local para facilitar o carregamento e teste de json antes de colocar o codigo em produção. Sendo assim, pode ser criado um cenário mais controlado para devs menos experientes.\n",
        "Vantagens\n",
        "\n",
        "    \n",
        "\n",
        "*  Simples: Usa um arquivo JSON para simular o comportamento de uma API.\n",
        "*  Flexível: Fácil de modificar e expandir para novas funcionalidades."
      ]
    }
  ],
  "metadata": {
    "colab": {
      "provenance": []
    },
    "kernelspec": {
      "display_name": "Python 3",
      "name": "python3"
    },
    "language_info": {
      "name": "python"
    }
  },
  "nbformat": 4,
  "nbformat_minor": 0
}
